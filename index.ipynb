{
 "cells": [
  {
   "cell_type": "markdown",
   "metadata": {},
   "source": [
    "# Bias-Variance Tradeoff - Lab"
   ]
  },
  {
   "cell_type": "markdown",
   "metadata": {},
   "source": [
    "## Introduction"
   ]
  },
  {
   "cell_type": "markdown",
   "metadata": {},
   "source": [
    "In this lab, you'll practice the concepts you learned in the last lesson, bias-variance tradeoff. "
   ]
  },
  {
   "cell_type": "markdown",
   "metadata": {},
   "source": [
    "## Objectives"
   ]
  },
  {
   "cell_type": "markdown",
   "metadata": {},
   "source": [
    "In this lab you will: \n",
    "\n",
    "- Demonstrate the tradeoff between bias and variance by way of fitting a machine learning model "
   ]
  },
  {
   "cell_type": "markdown",
   "metadata": {},
   "source": [
    "## Let's get started!"
   ]
  },
  {
   "cell_type": "markdown",
   "metadata": {},
   "source": [
    "In this lab, you'll try to predict some movie revenues based on certain factors, such as ratings and movie year. Start by running the following cell which imports all the necessary functions and the dataset: "
   ]
  },
  {
   "cell_type": "code",
   "execution_count": 4,
   "metadata": {
    "ExecuteTime": {
     "end_time": "2020-08-26T20:36:52.892708Z",
     "start_time": "2020-08-26T20:36:52.849277Z"
    }
   },
   "outputs": [
    {
     "data": {
      "text/html": [
       "<div>\n",
       "<style scoped>\n",
       "    .dataframe tbody tr th:only-of-type {\n",
       "        vertical-align: middle;\n",
       "    }\n",
       "\n",
       "    .dataframe tbody tr th {\n",
       "        vertical-align: top;\n",
       "    }\n",
       "\n",
       "    .dataframe thead th {\n",
       "        text-align: right;\n",
       "    }\n",
       "</style>\n",
       "<table border=\"1\" class=\"dataframe\">\n",
       "  <thead>\n",
       "    <tr style=\"text-align: right;\">\n",
       "      <th></th>\n",
       "      <th>Unnamed: 0</th>\n",
       "      <th>budget</th>\n",
       "      <th>domgross</th>\n",
       "      <th>title</th>\n",
       "      <th>Response_Json</th>\n",
       "      <th>Year</th>\n",
       "      <th>imdbRating</th>\n",
       "      <th>Metascore</th>\n",
       "      <th>imdbVotes</th>\n",
       "      <th>Model</th>\n",
       "    </tr>\n",
       "  </thead>\n",
       "  <tbody>\n",
       "    <tr>\n",
       "      <td>0</td>\n",
       "      <td>0</td>\n",
       "      <td>13000000</td>\n",
       "      <td>25682380</td>\n",
       "      <td>21 &amp;amp; Over</td>\n",
       "      <td>0</td>\n",
       "      <td>2008</td>\n",
       "      <td>6.8</td>\n",
       "      <td>48</td>\n",
       "      <td>206513</td>\n",
       "      <td>4.912759e+07</td>\n",
       "    </tr>\n",
       "    <tr>\n",
       "      <td>1</td>\n",
       "      <td>1</td>\n",
       "      <td>45658735</td>\n",
       "      <td>13414714</td>\n",
       "      <td>Dredd 3D</td>\n",
       "      <td>0</td>\n",
       "      <td>2012</td>\n",
       "      <td>0.0</td>\n",
       "      <td>0</td>\n",
       "      <td>0</td>\n",
       "      <td>2.267265e+05</td>\n",
       "    </tr>\n",
       "    <tr>\n",
       "      <td>2</td>\n",
       "      <td>2</td>\n",
       "      <td>20000000</td>\n",
       "      <td>53107035</td>\n",
       "      <td>12 Years a Slave</td>\n",
       "      <td>0</td>\n",
       "      <td>2013</td>\n",
       "      <td>8.1</td>\n",
       "      <td>96</td>\n",
       "      <td>537525</td>\n",
       "      <td>1.626624e+08</td>\n",
       "    </tr>\n",
       "    <tr>\n",
       "      <td>3</td>\n",
       "      <td>3</td>\n",
       "      <td>61000000</td>\n",
       "      <td>75612460</td>\n",
       "      <td>2 Guns</td>\n",
       "      <td>0</td>\n",
       "      <td>2013</td>\n",
       "      <td>6.7</td>\n",
       "      <td>55</td>\n",
       "      <td>173726</td>\n",
       "      <td>7.723381e+07</td>\n",
       "    </tr>\n",
       "    <tr>\n",
       "      <td>4</td>\n",
       "      <td>4</td>\n",
       "      <td>40000000</td>\n",
       "      <td>95020213</td>\n",
       "      <td>42</td>\n",
       "      <td>0</td>\n",
       "      <td>2013</td>\n",
       "      <td>7.5</td>\n",
       "      <td>62</td>\n",
       "      <td>74170</td>\n",
       "      <td>4.151958e+07</td>\n",
       "    </tr>\n",
       "  </tbody>\n",
       "</table>\n",
       "</div>"
      ],
      "text/plain": [
       "   Unnamed: 0    budget  domgross             title  Response_Json  Year  \\\n",
       "0           0  13000000  25682380     21 &amp; Over              0  2008   \n",
       "1           1  45658735  13414714          Dredd 3D              0  2012   \n",
       "2           2  20000000  53107035  12 Years a Slave              0  2013   \n",
       "3           3  61000000  75612460            2 Guns              0  2013   \n",
       "4           4  40000000  95020213                42              0  2013   \n",
       "\n",
       "   imdbRating  Metascore  imdbVotes         Model  \n",
       "0         6.8         48     206513  4.912759e+07  \n",
       "1         0.0          0          0  2.267265e+05  \n",
       "2         8.1         96     537525  1.626624e+08  \n",
       "3         6.7         55     173726  7.723381e+07  \n",
       "4         7.5         62      74170  4.151958e+07  "
      ]
     },
     "execution_count": 4,
     "metadata": {},
     "output_type": "execute_result"
    }
   ],
   "source": [
    "import numpy as np\n",
    "import pandas as pd\n",
    "from sklearn.preprocessing import MinMaxScaler\n",
    "from sklearn.model_selection import train_test_split\n",
    "from sklearn.metrics import mean_squared_error\n",
    "from sklearn.preprocessing import PolynomialFeatures\n",
    "from sklearn.linear_model import LinearRegression\n",
    "import matplotlib.pyplot as plt\n",
    "%matplotlib inline\n",
    "\n",
    "df = pd.read_excel('movie_data_detailed_with_ols.xlsx')\n",
    "df.head()"
   ]
  },
  {
   "cell_type": "markdown",
   "metadata": {},
   "source": [
    "Subset the `df` DataFrame to only keep the `'domgross'`, `'budget'`, `'imdbRating'`, `'Metascore'`, and `'imdbVotes'` columns. "
   ]
  },
  {
   "cell_type": "code",
   "execution_count": 5,
   "metadata": {
    "ExecuteTime": {
     "end_time": "2020-08-26T20:36:54.252028Z",
     "start_time": "2020-08-26T20:36:54.246109Z"
    }
   },
   "outputs": [],
   "source": [
    "# Subset the DataFrame\n",
    "df = df[['domgross', 'budget', 'imdbRating', 'Metascore', 'imdbVotes']]"
   ]
  },
  {
   "cell_type": "markdown",
   "metadata": {},
   "source": [
    "## Split the data\n",
    "\n",
    "\n",
    "- First, assign the predictors to `X` and the outcome variable, `'domgross'` to `y` \n",
    "- Split the data into training and test sets. Set the seed to 42 and the `test_size` to 0.25 "
   ]
  },
  {
   "cell_type": "code",
   "execution_count": 7,
   "metadata": {
    "ExecuteTime": {
     "end_time": "2020-08-26T20:37:06.471601Z",
     "start_time": "2020-08-26T20:37:06.451364Z"
    }
   },
   "outputs": [],
   "source": [
    "# domgross is the outcome variable\n",
    "X = df.drop('domgross', axis=1)\n",
    "y = df['domgross']\n",
    "\n",
    "X_train , X_test, y_train, y_test = train_test_split(X, y, test_size=0.25, random_state=42)"
   ]
  },
  {
   "cell_type": "markdown",
   "metadata": {},
   "source": [
    "Use the `MinMaxScaler` to scale the training set. Remember you can fit and transform in a single method using `.fit_transform()`.  "
   ]
  },
  {
   "cell_type": "code",
   "execution_count": 8,
   "metadata": {
    "ExecuteTime": {
     "end_time": "2020-08-26T20:37:26.455473Z",
     "start_time": "2020-08-26T20:37:26.444743Z"
    }
   },
   "outputs": [],
   "source": [
    "# Transform with MinMaxScaler\n",
    "scaler = MinMaxScaler()\n",
    "X_train_scaled = scaler.fit_transform(X_train)"
   ]
  },
  {
   "cell_type": "markdown",
   "metadata": {},
   "source": [
    "Transform the test data (`X_test`) using the same `scaler`:  "
   ]
  },
  {
   "cell_type": "code",
   "execution_count": 9,
   "metadata": {
    "ExecuteTime": {
     "end_time": "2020-08-26T20:43:44.517154Z",
     "start_time": "2020-08-26T20:43:44.509571Z"
    }
   },
   "outputs": [],
   "source": [
    "# Scale the test set\n",
    "X_test_scaled = scaler.fit_transform(X_test)"
   ]
  },
  {
   "cell_type": "markdown",
   "metadata": {},
   "source": [
    "## Fit a regression model to the training data"
   ]
  },
  {
   "cell_type": "code",
   "execution_count": 10,
   "metadata": {
    "ExecuteTime": {
     "end_time": "2020-08-26T20:44:17.478470Z",
     "start_time": "2020-08-26T20:44:17.358436Z"
    }
   },
   "outputs": [
    {
     "data": {
      "text/plain": [
       "LinearRegression(copy_X=True, fit_intercept=True, n_jobs=None, normalize=False)"
      ]
     },
     "execution_count": 10,
     "metadata": {},
     "output_type": "execute_result"
    }
   ],
   "source": [
    "# Your code \n",
    "linreg = LinearRegression()\n",
    "linreg.fit(X_train, y_train)"
   ]
  },
  {
   "cell_type": "markdown",
   "metadata": {},
   "source": [
    "Use the model to make predictions on both the training and test sets: "
   ]
  },
  {
   "cell_type": "code",
   "execution_count": 11,
   "metadata": {
    "ExecuteTime": {
     "end_time": "2020-08-26T20:44:50.556408Z",
     "start_time": "2020-08-26T20:44:50.545165Z"
    }
   },
   "outputs": [],
   "source": [
    "# Training set predictions\n",
    "lm_train_predictions = linreg.predict(X_train)\n",
    "\n",
    "# Test set predictions \n",
    "lm_test_predictions = linreg.predict(X_test)"
   ]
  },
  {
   "cell_type": "markdown",
   "metadata": {},
   "source": [
    "Plot predictions for the training set against the actual data: "
   ]
  },
  {
   "cell_type": "code",
   "execution_count": 12,
   "metadata": {
    "ExecuteTime": {
     "end_time": "2020-08-26T20:45:58.607821Z",
     "start_time": "2020-08-26T20:45:58.307869Z"
    }
   },
   "outputs": [
    {
     "data": {
      "image/png": "[encoded data removed]",
      "text/plain": [
       "<Figure size 576x360 with 1 Axes>"
      ]
     },
     "metadata": {
      "needs_background": "light"
     },
     "output_type": "display_data"
    }
   ],
   "source": [
    "# Run this cell - vertical distance between the points and the line denote the errors\n",
    "plt.figure(figsize=(8, 5))\n",
    "plt.scatter(y_train, lm_train_predictions, label='Model')\n",
    "plt.plot(y_train, y_train, label='Actual data')\n",
    "plt.title('Model vs data for training set')\n",
    "plt.legend();"
   ]
  },
  {
   "cell_type": "markdown",
   "metadata": {},
   "source": [
    "Plot predictions for the test set against the actual data: "
   ]
  },
  {
   "cell_type": "code",
   "execution_count": 13,
   "metadata": {
    "ExecuteTime": {
     "end_time": "2020-08-26T20:46:00.156463Z",
     "start_time": "2020-08-26T20:45:59.943102Z"
    }
   },
   "outputs": [
    {
     "data": {
      "image/png": "[encoded data removed]",
      "text/plain": [
       "<Figure size 576x360 with 1 Axes>"
      ]
     },
     "metadata": {
      "needs_background": "light"
     },
     "output_type": "display_data"
    }
   ],
   "source": [
    "# Run this cell - vertical distance between the points and the line denote the errors\n",
    "plt.figure(figsize=(8, 5))\n",
    "plt.scatter(y_test, lm_test_predictions, label='Model')\n",
    "plt.plot(y_test, y_test, label='Actual data')\n",
    "plt.title('Model vs data for test set')\n",
    "plt.legend();"
   ]
  },
  {
   "cell_type": "markdown",
   "metadata": {},
   "source": [
    "## Bias\n",
    "\n",
    "Create a function `bias()` to calculate the bias of a model's predictions given the actual data: $Bias(\\hat{f}(x)) = E[\\hat{f}(x)-f(x)]$   \n",
    "(The expected value can simply be taken as the mean or average value.)  "
   ]
  },
  {
   "cell_type": "code",
   "execution_count": 14,
   "metadata": {
    "ExecuteTime": {
     "end_time": "2020-08-26T20:47:06.775168Z",
     "start_time": "2020-08-26T20:47:06.769704Z"
    }
   },
   "outputs": [],
   "source": [
    "import numpy as np\n",
    "def bias(y, y_hat):\n",
    "    bias_num = np.mean(y_hat - y)\n",
    "    return bias_num"
   ]
  },
  {
   "cell_type": "markdown",
   "metadata": {},
   "source": [
    "## Variance\n",
    "Create a function `variance()` to calculate the variance of a model's predictions: $Var(\\hat{f}(x)) = E[\\hat{f}(x)^2] - \\big(E[\\hat{f}(x)]\\big)^2$"
   ]
  },
  {
   "cell_type": "code",
   "execution_count": 15,
   "metadata": {
    "ExecuteTime": {
     "end_time": "2020-08-26T20:50:34.915993Z",
     "start_time": "2020-08-26T20:50:34.910761Z"
    }
   },
   "outputs": [],
   "source": [
    "def variance(y_hat):\n",
    "    var = np.mean(y_hat**2) - (np.mean(y_hat))**2\n",
    "    return var"
   ]
  },
  {
   "cell_type": "markdown",
   "metadata": {},
   "source": [
    "## Calculate bias and variance"
   ]
  },
  {
   "cell_type": "code",
   "execution_count": 16,
   "metadata": {
    "ExecuteTime": {
     "end_time": "2020-08-26T20:55:29.385612Z",
     "start_time": "2020-08-26T20:55:29.365087Z"
    }
   },
   "outputs": [
    {
     "name": "stdout",
     "output_type": "stream",
     "text": [
      "Train bias: -2.7093020352450285e-09 \n",
      "Train variance: 3406811040980153.0\n"
     ]
    }
   ],
   "source": [
    "# Bias and variance for training set \n",
    "b = bias(y_train, lm_train_predictions)\n",
    "v = variance(lm_train_predictions)\n",
    "print('Train bias: {} \\nTrain variance: {}'.format(b, v))\n",
    "\n",
    "# Train bias: -8.127906105735085e-09 \n",
    "# Train variance: 3406811040986517.0"
   ]
  },
  {
   "cell_type": "code",
   "execution_count": 17,
   "metadata": {
    "ExecuteTime": {
     "end_time": "2020-08-26T20:58:32.471075Z",
     "start_time": "2020-08-26T20:58:32.463549Z"
    }
   },
   "outputs": [
    {
     "name": "stdout",
     "output_type": "stream",
     "text": [
      "Test bias: -10982393.918056078 \n",
      "Test variance: 1518678846122638.0\n"
     ]
    }
   ],
   "source": [
    "# Bias and variance for test set \n",
    "b = bias(y_test, lm_test_predictions)\n",
    "v = variance(lm_test_predictions)\n",
    "print('Test bias: {} \\nTest variance: {}'.format(b, v))\n",
    "\n",
    "# Test bias: -10982393.918069275 \n",
    "# Test variance: 1518678846127932.0"
   ]
  },
  {
   "cell_type": "markdown",
   "metadata": {},
   "source": [
    "## Overfit a new model "
   ]
  },
  {
   "cell_type": "markdown",
   "metadata": {},
   "source": [
    "Use `PolynomialFeatures` with degree 3 and transform `X_train_scaled` and `X_test_scaled`. \n",
    "\n",
    "**Important note:** By including this, you don't only take polynomials of single variables, but you also combine variables, eg:\n",
    "\n",
    "$ \\text{Budget} * \\text{MetaScore} ^ 2 $\n",
    "\n",
    "What you're essentially doing is taking interactions and creating polynomials at the same time! Have a look at how many columns we get using `np.shape()`! \n"
   ]
  },
  {
   "cell_type": "code",
   "execution_count": 18,
   "metadata": {
    "ExecuteTime": {
     "end_time": "2020-08-26T21:04:50.365122Z",
     "start_time": "2020-08-26T21:04:50.337315Z"
    }
   },
   "outputs": [],
   "source": [
    "# Your code here\n",
    "poly = PolynomialFeatures(3)\n",
    "\n",
    "X_train_poly = poly.fit_transform(X_train)\n",
    "X_test_poly = poly.fit_transform(X_test)"
   ]
  },
  {
   "cell_type": "code",
   "execution_count": 20,
   "metadata": {
    "ExecuteTime": {
     "end_time": "2020-08-26T21:05:29.591467Z",
     "start_time": "2020-08-26T21:05:29.583387Z"
    }
   },
   "outputs": [
    {
     "data": {
      "text/plain": [
       "(8, 35)"
      ]
     },
     "execution_count": 20,
     "metadata": {},
     "output_type": "execute_result"
    }
   ],
   "source": [
    "# Check the shape\n",
    "X_train_poly.shape\n",
    "X_test_poly.shape"
   ]
  },
  {
   "cell_type": "markdown",
   "metadata": {},
   "source": [
    "Fit a regression model to the training data: "
   ]
  },
  {
   "cell_type": "code",
   "execution_count": 22,
   "metadata": {
    "ExecuteTime": {
     "end_time": "2020-08-26T21:12:50.989984Z",
     "start_time": "2020-08-26T21:12:50.984344Z"
    }
   },
   "outputs": [],
   "source": [
    "# Your code here\n",
    "polyreg = LinearRegression().fit(X_train_poly, y_train)\n"
   ]
  },
  {
   "cell_type": "markdown",
   "metadata": {},
   "source": [
    "Use the model to make predictions on both the training and test sets: "
   ]
  },
  {
   "cell_type": "code",
   "execution_count": 23,
   "metadata": {
    "ExecuteTime": {
     "end_time": "2020-08-26T21:13:47.274115Z",
     "start_time": "2020-08-26T21:13:47.268141Z"
    }
   },
   "outputs": [],
   "source": [
    "# Training set predictions\n",
    "poly_train_predictions = polyreg.predict(X_train_poly)\n",
    "\n",
    "# Test set predictions \n",
    "poly_test_predictions = polyreg.predict(X_test_poly)"
   ]
  },
  {
   "cell_type": "markdown",
   "metadata": {},
   "source": [
    "Plot predictions for the training set against the actual data: "
   ]
  },
  {
   "cell_type": "code",
   "execution_count": 24,
   "metadata": {
    "ExecuteTime": {
     "end_time": "2020-08-26T21:14:00.262529Z",
     "start_time": "2020-08-26T21:13:59.991853Z"
    }
   },
   "outputs": [
    {
     "data": {
      "image/png": "[encoded data removed]",
      "text/plain": [
       "<Figure size 576x360 with 1 Axes>"
      ]
     },
     "metadata": {
      "needs_background": "light"
     },
     "output_type": "display_data"
    }
   ],
   "source": [
    "# Run this cell - vertical distance between the points and the line denote the errors\n",
    "plt.figure(figsize=(8, 5))\n",
    "plt.scatter(y_train, poly_train_predictions, label='Model')\n",
    "plt.plot(y_train, y_train, label='Actual data')\n",
    "plt.title('Model vs data for training set')\n",
    "plt.legend();"
   ]
  },
  {
   "cell_type": "markdown",
   "metadata": {},
   "source": [
    "Plot predictions for the test set against the actual data: "
   ]
  },
  {
   "cell_type": "code",
   "execution_count": 25,
   "metadata": {
    "ExecuteTime": {
     "end_time": "2020-08-26T21:14:04.034620Z",
     "start_time": "2020-08-26T21:14:03.814997Z"
    }
   },
   "outputs": [
    {
     "data": {
      "image/png": "[encoded data removed]",
      "text/plain": [
       "<Figure size 576x360 with 1 Axes>"
      ]
     },
     "metadata": {
      "needs_background": "light"
     },
     "output_type": "display_data"
    }
   ],
   "source": [
    "# Run this cell - vertical distance between the points and the line denote the errors\n",
    "plt.figure(figsize=(8, 5))\n",
    "plt.scatter(y_test, poly_test_predictions, label='Model')\n",
    "plt.plot(y_test, y_test, label='Actual data')\n",
    "plt.title('Model vs data for test set')\n",
    "plt.legend();"
   ]
  },
  {
   "cell_type": "markdown",
   "metadata": {},
   "source": [
    "Calculate the bias and variance for the training set: "
   ]
  },
  {
   "cell_type": "code",
   "execution_count": 26,
   "metadata": {
    "ExecuteTime": {
     "end_time": "2020-08-26T21:24:27.059591Z",
     "start_time": "2020-08-26T21:24:27.037022Z"
    }
   },
   "outputs": [
    {
     "name": "stdout",
     "output_type": "stream",
     "text": [
      "Train bias: -4.8767436634410514e-08 \n",
      "Train variance: 7130091912485789.0\n"
     ]
    }
   ],
   "source": [
    "# Bias and variance for training set \n",
    "b = bias(y_train, poly_train_predictions) \n",
    "v = variance(poly_train_predictions)\n",
    "print('Train bias: {} \\nTrain variance: {}'.format(b, v))\n",
    "\n",
    "# Train bias: 3.5898251966996625e-07 \n",
    "# Train variance: 7394168636697528.0"
   ]
  },
  {
   "cell_type": "markdown",
   "metadata": {},
   "source": [
    "Calculate the bias and variance for the test set: "
   ]
  },
  {
   "cell_type": "code",
   "execution_count": 27,
   "metadata": {
    "ExecuteTime": {
     "end_time": "2020-08-26T21:30:17.080361Z",
     "start_time": "2020-08-26T21:30:17.072767Z"
    }
   },
   "outputs": [
    {
     "name": "stdout",
     "output_type": "stream",
     "text": [
      "Test bias: -66947378.87486931 \n",
      "Test variance: 3.3571125555423384e+16\n"
     ]
    }
   ],
   "source": [
    "# Bias and variance for test set \n",
    "b = bias(y_test, poly_test_predictions)\n",
    "v = variance(poly_test_predictions)\n",
    "print('Test bias: {} \\nTest variance: {}'.format(b, v))\n",
    "\n",
    "# Test bias: -68166032.47666144 \n",
    "# Test variance: 4.798244829435879e+16"
   ]
  },
  {
   "cell_type": "markdown",
   "metadata": {},
   "source": [
    "## Interpret the overfit model"
   ]
  },
  {
   "cell_type": "code",
   "execution_count": null,
   "metadata": {},
   "outputs": [],
   "source": [
    "# Your description here\n",
    "#The overfit model very closely matches the training data\n",
    "#Bias and variance are greatly increased for the test set which proves the model did not handle new data well"
   ]
  },
  {
   "cell_type": "markdown",
   "metadata": {},
   "source": [
    "## Level Up (Optional)"
   ]
  },
  {
   "cell_type": "markdown",
   "metadata": {},
   "source": [
    "In this lab we went from 4 predictors to 35 by adding polynomials and interactions, using `PolynomialFeatures`. That being said, where 35 leads to overfitting, there are probably ways to improve by adding just a few polynomials. Feel free to experiment and see how bias and variance improve!"
   ]
  },
  {
   "cell_type": "markdown",
   "metadata": {},
   "source": [
    "## Summary"
   ]
  },
  {
   "cell_type": "markdown",
   "metadata": {},
   "source": [
    "This lab gave you insight into how bias and variance change for a training and a test set by using both simple and complex models. "
   ]
  }
 ],
 "metadata": {
  "kernelspec": {
   "display_name": "Python 3",
   "language": "python",
   "name": "python3"
  },
  "language_info": {
   "codemirror_mode": {
    "name": "ipython",
    "version": 3
   },
   "file_extension": ".py",
   "mimetype": "text/x-python",
   "name": "python",
   "nbconvert_exporter": "python",
   "pygments_lexer": "ipython3",
   "version": "3.6.9"
  },
  "toc": {
   "base_numbering": 1,
   "nav_menu": {},
   "number_sections": true,
   "sideBar": true,
   "skip_h1_title": false,
   "title_cell": "Table of Contents",
   "title_sidebar": "Contents",
   "toc_cell": false,
   "toc_position": {},
   "toc_section_display": true,
   "toc_window_display": false
  },
  "varInspector": {
   "cols": {
    "lenName": 16,
    "lenType": 16,
    "lenVar": 40
   },
   "kernels_config": {
    "python": {
     "delete_cmd_postfix": "",
     "delete_cmd_prefix": "del ",
     "library": "var_list.py",
     "varRefreshCmd": "print(var_dic_list())"
    },
    "r": {
     "delete_cmd_postfix": ") ",
     "delete_cmd_prefix": "rm(",
     "library": "var_list.r",
     "varRefreshCmd": "cat(var_dic_list()) "
    }
   },
   "types_to_exclude": [
    "module",
    "function",
    "builtin_function_or_method",
    "instance",
    "_Feature"
   ],
   "window_display": false
  }
 },
 "nbformat": 4,
 "nbformat_minor": 2
}
